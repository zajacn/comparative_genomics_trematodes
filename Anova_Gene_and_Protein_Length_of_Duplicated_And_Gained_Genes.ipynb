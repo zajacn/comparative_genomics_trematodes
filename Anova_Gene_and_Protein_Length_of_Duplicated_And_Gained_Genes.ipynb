{
 "cells": [
  {
   "cell_type": "markdown",
   "metadata": {},
   "source": [
    "# Analysis of variance on protein length, gene length and exon number of duplicated, gained and retained genes in 13 extant trematodes since their most recent common ancestor"
   ]
  },
  {
   "cell_type": "markdown",
   "metadata": {},
   "source": [
    "In order to perform this analysis one has to first run OMA standalone and Pyham to create a dataframe called trematode_df. See Ancestral_trematode_genome_vs_extant_trematode_genome.ipynb. Because the trematode_df has only protein length from fasta files one has to obtain gene ids for each species and calculate the gene length in bp from the gff files. Exon numbers per gene can also be obtained from gff files. Here we assume a ready dataframe with each gene of each species categorized as duplicated, gained or retained since trematode ancestor, with gene length, protein length and exon number."
   ]
  },
  {
   "cell_type": "code",
   "execution_count": null,
   "metadata": {},
   "outputs": [],
   "source": [
    "import pandas as pd\n",
    "import seaborn as sns\n",
    "import statsmodels.api as sm\n",
    "from statsmodels.formula.api import ols\n",
    "import researchpy as rp\n",
    "import statsmodels.stats.multicomp\n",
    "import scipy.stats as stats\n",
    "from sklearn.preprocessing import normalize\n",
    "import numpy as np\n",
    "import matplotlib.pyplot as plt\n",
    "\n",
    "#Define working directory and load the cumulative table\n",
    "working_dir = 'C:/Users/nzaja/Documents/Onedrive/onedrivedocuments'\n",
    "trematode_df = pd.read_csv(working_dir + \"/proteinlength/\" + \"cumulative_table.txt\", sep=\",\")"
   ]
  },
  {
   "cell_type": "markdown",
   "metadata": {},
   "source": [
    "You might first want to create a boxplot for gene length, protein length or exon number per species before you perform the analysis."
   ]
  },
  {
   "cell_type": "code",
   "execution_count": null,
   "metadata": {},
   "outputs": [],
   "source": [
    "# Plotting boxplots of protein lengths of different classes, change protein_len to gene_len or exon_number\n",
    "mylabels = [\n",
    "\"Atriophallophorus winterbourni\",\n",
    "\"Clonorchis sinensis\",\n",
    "\"Echinostoma caproni\",\n",
    "\"Fasciola hepatica\",\n",
    "\"Opisthorchis felineus\",\n",
    "\"Opisthorchis viverrini\",\n",
    "\"Schistosoma bovis\",\n",
    "\"Schistosoma curassoni\",\n",
    "\"Schistosoma haematobium\",\n",
    "\"Schistosoma japonicum\",\n",
    "\"Schistosoma mansoni\",\n",
    "\"Schistosoma mattheei\",\n",
    "\"Schistostoma margrebowiei\",\n",
    "\"Trichobilharzia regenti\"]\n",
    "fig, ax = plt.subplots(figsize=(12,6))\n",
    "colours = [\"palevioletred\", \"gold\", \"darkturquoise\"]\n",
    "ax = sns.boxplot(x=\"species\", y=\"protein_len\", hue=\"class\", palette = colours, \\\n",
    "                 data=trematode_df, showfliers=False)\n",
    "ax.set_xticklabels(mylabels, rotation=90)\n",
    "plt.ylabel(\"Protein Length\")\n",
    "plt.xlabel(\"Species\")"
   ]
  },
  {
   "cell_type": "markdown",
   "metadata": {},
   "source": [
    "Calculate the summary statistics."
   ]
  },
  {
   "cell_type": "code",
   "execution_count": null,
   "metadata": {},
   "outputs": [],
   "source": [
    "trematode_genome_filenames = [\n",
    "\"Atriophallophorus_red3.agouti.run1.all.maker.proteins.fa\",\n",
    "\"Clonorchis_sinensis_GCA_003604175.1_ASM360417v1_protein.fa\",\n",
    "\"Echinostoma_caproni_GCA_900618425.1_Egypt_0011_upd_protein.fa\",\n",
    "\"Fasciola_hepatica_GCA_002763495.2_1.0.allpaths.pg_protein.fa\",\n",
    "\"Opisthorchis_felineus_GCA_004794785.1_ICG_Ofel_1.0_protein.fa\",\n",
    "\"Opisthorchis_viverrini_GCA_001990785.1_1.0.pg.lrna_protein.fa\",\n",
    "\"Schistosoma_bovis_GCA_003958945.1_ASM395894v1_protein.fa\",\n",
    "\"Schistosoma_curassoni_GCA_900618015.1_Dakar_0011_upd_protein.fa\",\n",
    "\"Schistosoma_haematobium_GCA_000699445.1_1.0_protein.fa\",\n",
    "\"Schistosoma_japonicum_GCA_006368765.1_ASM636876v1_protein.fa\",\n",
    "\"Schistosoma_mansoni_GCA_000237925.2_ASM23792v2_protein.fa\",\n",
    "\"Schistosoma_mattheei_GCA_900617995.1_Denwood_0011_upd_protein.fa\",\n",
    "\"Schistostoma_margrebowiei_GCA_900618395.1_Zambia_0011_upd_protein.fa\",\n",
    "\"Trichobilharzia_regenti_GCA_900618515.1_v1_0_4_001_upd_protein.fa\"]\n",
    "\n",
    "\n",
    "trematode_genomes = [x.split(\".\")[0] for x in trematode_genome_filenames] \n",
    "\n",
    "#Change protein_len into gene_len or exon_number\n",
    "for species in trematode_genomes:\n",
    "    data1=trematode_df[(trematode_df['species']== species) & (trematode_df['class']== 'duplicated')]\n",
    "    data1['protein_len']\n",
    "    print(species, len(data1[['protein_len']]))\n",
    "\n",
    "#mean\n",
    "    sum1 = sum(data1['protein_len'])/len(data1['protein_len'])\n",
    "    print(\"Mean \", sum1)\n",
    "# atrio retained 548.7659275891103\n",
    "\n",
    "#median, 412 for retained atrio\n",
    "    n=len(data1['protein_len'])\n",
    "    data2= data1['protein_len'].tolist()\n",
    "    data2.sort() \n",
    "    if n % 2 == 0: \n",
    "        median1 = data2[n//2] \n",
    "        median2 = data2[n//2 - 1] \n",
    "        median = (median1 + median2)/2\n",
    "    else: \n",
    "        median = data2[n//2] \n",
    "    print(\"Median \" + str(median)) \n",
    "\n",
    "##mode, Mode is / are: 239, 369 atrio retained\n",
    "\n",
    "    data_counter = Counter(data2) \n",
    "    get_mode = dict(data_counter) \n",
    "    mode = [k for k, v in get_mode.items() if v == max(list(data_counter.values()))] \n",
    "  \n",
    "    if len(mode) == n: \n",
    "        get_mode = \"No mode found\"\n",
    "    else: \n",
    "        get_mode = \"Mode \" + ', '.join(map(str, mode)) \n",
    "      \n",
    "    print(get_mode) "
   ]
  },
  {
   "cell_type": "markdown",
   "metadata": {},
   "source": [
    "Make a distribution of protein length, gene length or exon number per species."
   ]
  },
  {
   "cell_type": "code",
   "execution_count": null,
   "metadata": {},
   "outputs": [],
   "source": [
    "#Change protein_len to exon_number or gene_len\n",
    "def make_size_plot(df, protein_len_cutoff=2000, alpha=0.5, figsize=(12,7), title=\"title goes here\"):\n",
    "    \n",
    "    alpha = alpha\n",
    "    fig, ax = plt.subplots(figsize=figsize)\n",
    "\n",
    "    subset_df = df[df['protein_len']<=protein_len_cutoff]\n",
    "    ax = sns.distplot(subset_df[subset_df['species']==\"Atriophallophorus_red3\"]['protein_len'], color=\"red\", hist=False, label=\"Atriophallophorus winterbourni\")\n",
    "    ax = sns.distplot(subset_df[subset_df['species']==\"Opisthorchis_felineus_GCA_004794785\"]['protein_len'], color=\"maroon\", hist=False,  label=\"Opisthorchis felineus\")\n",
    "    ax = sns.distplot(subset_df[subset_df['species']==\"Clonorchis_sinensis_GCA_003604175\"]['protein_len'], color=\"sandybrown\", hist=False,  label=\"Clonorchis sinensis\")\n",
    "    ax = sns.distplot(subset_df[subset_df['species']==\"Echinostoma_caproni_GCA_900618425\"]['protein_len'], color=\"purple\", hist=False,  label=\"Echinostoma caproni\")\n",
    "    ax = sns.distplot(subset_df[subset_df['species']==\"Fasciola_hepatica_GCA_002763495\"]['protein_len'], color=\"magenta\", hist=False,  label=\"Fasciola hepatica\")\n",
    "    ax = sns.distplot(subset_df[subset_df['species']==\"Opisthorchis_viverrini_GCA_001990785\"]['protein_len'], color=\"darksalmon\", hist=False,  label=\"Opisthorchis viverrini\")\n",
    "    ax = sns.distplot(subset_df[subset_df['species']==\"Schistosoma_bovis_GCA_003958945\"]['protein_len'], color=\"olive\", hist=False,  label=\"Schistosoma bovis\")\n",
    "    ax = sns.distplot(subset_df[subset_df['species']==\"Schistosoma_curassoni_GCA_900618015\"]['protein_len'], color=\"yellowgreen\", hist=False,   label=\"Schistosoma curassoni\")\n",
    "    ax = sns.distplot(subset_df[subset_df['species']==\"Schistosoma_haematobium_GCA_000699445\"]['protein_len'], color=\"lawngreen\", hist=False,  label=\"Schistosoma haematobium\")\n",
    "    ax = sns.distplot(subset_df[subset_df['species']==\"Schistosoma_japonicum_GCA_006368765\"]['protein_len'], color=\"lightgreen\", hist=False,   label=\"Schistosoma japonicum\")\n",
    "    ax = sns.distplot(subset_df[subset_df['species']==\"Schistosoma_mansoni_GCA_000237925\"]['protein_len'], color=\"g\", hist=False,  label=\"Schistosoma mansoni\")\n",
    "    ax = sns.distplot(subset_df[subset_df['species']==\"Schistosoma_mattheei_GCA_900617995\"]['protein_len'], color=\"mediumseagreen\", hist=False, label=\"Schistosoma mattheei\")\n",
    "    ax = sns.distplot(subset_df[subset_df['species']==\"Schistostoma_margrebowiei_GCA_900618395\"]['protein_len'], color=\"mediumturquoise\", hist=False, label=\"Schistosoma margrebowiei\")\n",
    "    ax = sns.distplot(subset_df[subset_df['species']==\"Trichobilharzia_regenti_GCA_900618515\"]['protein_len'], color=\"darkblue\", hist=False,  label=\"Trichobilharzia regenti\")\n",
    "\n",
    "    ax.set_xlabel(\"Protein Length\")\n",
    "    ax.legend(fontsize=12)\n",
    "    ax.set_title(title, fontsize=20)\n",
    "    \n",
    "#all species combined\n",
    "make_size_plot(trematode_df, title=\"All trematode species\")"
   ]
  },
  {
   "cell_type": "markdown",
   "metadata": {},
   "source": [
    "Prepare a table for ANOVA analysis. We assume here protein length (protein_len) but it can be changed for gene length or exon number."
   ]
  },
  {
   "cell_type": "code",
   "execution_count": null,
   "metadata": {},
   "outputs": [],
   "source": [
    "protein_length_df = trematode_df[['species','class', 'protein_len']] \n",
    "protein_length_2_df = pd.melt(protein_length_df, id_vars=['species', 'class'])\n",
    "protein_length_2_df.columns = ['species', 'gene', 'variable', 'value']"
   ]
  },
  {
   "cell_type": "code",
   "execution_count": null,
   "metadata": {},
   "outputs": [],
   "source": [
    "#Log transform and normalize values if the data has a lot of outliers and is not normally distributed\n",
    "import numpy as np\n",
    "protein_length_2_df = protein_length_2_df.replace(0, np.nan)\n",
    "protein_length_2_df = protein_length_2_df[protein_length_2_df['value'].notna()]\n",
    "protein_length_log = np.log(protein_length_2_df.value)\n",
    "protein_length_log.describe()\n",
    "protein_length_2_df.insert(4, \"LOG_Values\", protein_length_log, True)\n",
    "#normalization\n",
    "def normalize(column):\n",
    "    upper = column.max()\n",
    "    lower = column.min()\n",
    "    y = (column - lower)/(upper-lower)\n",
    "    return y\n",
    "\n",
    "protein_length_log_normalized = normalize(protein_length_log)\n",
    "protein_length_log_normalized.describe()\n",
    "protein_length_2_df.insert(5, \"LOG_NORM_Values\", protein_length_log_normalized, True)"
   ]
  },
  {
   "cell_type": "code",
   "execution_count": null,
   "metadata": {},
   "outputs": [],
   "source": [
    "#Obtain summary statistics for the normalized and log transformed values\n",
    "rp.summary_cont(protein_length_2_df['LOG_NORM_Values'])\n",
    "rp.summary_cont(protein_length_2_df.groupby(['gene']))['LOG_NORM_Values']\n",
    "rp.summary_cont(protein_length_2_df.groupby(['species']))['LOG_NORM_Values']\n",
    "rp.summary_cont(protein_length_2_df.groupby(['gene', 'species']))['LOG_NORM_Values']"
   ]
  },
  {
   "cell_type": "code",
   "execution_count": null,
   "metadata": {},
   "outputs": [],
   "source": [
    "#Run the model\n",
    "model = ols('LOG_NORM_Values ~ C(species) + C(gene) + C(species):C(gene)', data= protein_length_2_df).fit()\n",
    "print(f\"Overall model F({model.df_model: .0f},{model.df_resid: .0f}) = {model.fvalue: .3f}, p = {model.f_pvalue: .4f}\")\n",
    "\n",
    "#Obtain the full model summary\n",
    "model.summary()\n",
    "\n",
    "#Obtain the effect sizes for each independent factor\n",
    "res = sm.stats.anova_lm(model, typ= 2)\n",
    "res\n",
    "def anova_table(aov):\n",
    "    aov['mean_sq'] = aov[:]['sum_sq']/aov[:]['df']\n",
    "    \n",
    "    aov['eta_sq'] = aov[:-1]['sum_sq']/sum(aov['sum_sq'])\n",
    "    \n",
    "    aov['omega_sq'] = (aov[:-1]['sum_sq']-(aov[:-1]['df']*aov['mean_sq'][-1]))/(sum(aov['sum_sq'])+aov['mean_sq'][-1])\n",
    "    \n",
    "    cols = ['sum_sq', 'mean_sq', 'df', 'F', 'PR(>F)', 'eta_sq', 'omega_sq']\n",
    "    aov = aov[cols]\n",
    "    return aov\n",
    "anova_table(res)"
   ]
  },
  {
   "cell_type": "code",
   "execution_count": null,
   "metadata": {},
   "outputs": [],
   "source": [
    "#Turkey's Posthoc test to test for significant differences between means of pairs of groups of independent factors in the model\n",
    "#First we test gene category (retained, duplicated, gained)\n",
    "mc = statsmodels.stats.multicomp.MultiComparison(protein_length_2_df['value'], protein_length_2_df['gene'])\n",
    "mc_results = mc.tukeyhsd()\n",
    "print(mc_results)\n",
    "\n",
    "#Then we test species (retained, duplicated, gained)\n",
    "mc = statsmodels.stats.multicomp.MultiComparison(protein_length_2_df['value'], protein_length_2_df['species'])\n",
    "mc_results = mc.tukeyhsd()\n",
    "print(mc_results)"
   ]
  }
 ],
 "metadata": {
  "kernelspec": {
   "display_name": "Python 3",
   "language": "python",
   "name": "python3"
  },
  "language_info": {
   "codemirror_mode": {
    "name": "ipython",
    "version": 3
   },
   "file_extension": ".py",
   "mimetype": "text/x-python",
   "name": "python",
   "nbconvert_exporter": "python",
   "pygments_lexer": "ipython3",
   "version": "3.7.4"
  }
 },
 "nbformat": 4,
 "nbformat_minor": 2
}
